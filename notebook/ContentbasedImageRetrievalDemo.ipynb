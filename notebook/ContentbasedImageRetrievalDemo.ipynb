{
  "cells": [
    {
      "cell_type": "code",
      "execution_count": 5,
      "metadata": {
        "id": "ix8xGQYJDgIg"
      },
      "outputs": [],
      "source": [
        "import math\n",
        "import os\n",
        "\n",
        "from tensorflow.keras.preprocessing import image\n",
        "from tensorflow.keras.applications.vgg16 import VGG16, preprocess_input\n",
        "from tensorflow.keras.models import  Model\n",
        "\n",
        "from PIL import Image\n",
        "import pickle\n",
        "import numpy as np"
      ]
    },
    {
      "cell_type": "code",
      "execution_count": 3,
      "metadata": {
        "id": "qfRty7VbDwkM"
      },
      "outputs": [],
      "source": [
        "# Ham tao model\n",
        "def get_extract_model():\n",
        "    vgg16_model = VGG16(weights=\"imagenet\")\n",
        "    extract_model = Model(inputs=vgg16_model.inputs, outputs = vgg16_model.get_layer(\"fc1\").output)\n",
        "    return extract_model"
      ]
    },
    {
      "cell_type": "code",
      "execution_count": 6,
      "metadata": {
        "id": "oOa8IuLnD17d"
      },
      "outputs": [],
      "source": [
        "# Ham tien xu ly, chuyen doi hinh anh thanh tensor\n",
        "def image_preprocess(img):\n",
        "    img = img.resize((224,224))\n",
        "    img = img.convert(\"RGB\")\n",
        "    x = image.img_to_array(img)\n",
        "    x = np.expand_dims(x, axis=0)\n",
        "    x = preprocess_input(x)\n",
        "    return x"
      ]
    },
    {
      "cell_type": "code",
      "execution_count": 7,
      "metadata": {
        "id": "JpjfcQp3D4fG"
      },
      "outputs": [],
      "source": [
        "def extract_vector(model, image_path):\n",
        "    img = Image.open(image_path)\n",
        "    img_tensor = image_preprocess(img)\n",
        "\n",
        "    # Trich dac trung\n",
        "    vector = model.predict(img_tensor)[0]\n",
        "    # Chuan hoa vector = chia chia L2 norm (tu google search)\n",
        "    vector = vector / np.linalg.norm(vector)\n",
        "    return vector"
      ]
    },
    {
      "cell_type": "code",
      "execution_count": 8,
      "metadata": {
        "id": "_JLlHuDaR9mB"
      },
      "outputs": [],
      "source": [
        "# Dinh nghia thu muc data\n",
        "data_folder = \"dataset\\Oxford5k\"\n",
        "\n",
        "model = get_extract_model()"
      ]
    },
    {
      "cell_type": "code",
      "execution_count": 9,
      "metadata": {
        "id": "sFi536cPT8ht"
      },
      "outputs": [],
      "source": [
        "vectors = []\n",
        "paths = []"
      ]
    },
    {
      "cell_type": "code",
      "execution_count": null,
      "metadata": {
        "colab": {
          "base_uri": "https://localhost:8080/",
          "height": 398
        },
        "id": "-z5seAPqSxJv",
        "outputId": "7da6d62f-fe2a-4937-a5fe-63bb3f790b03"
      },
      "outputs": [],
      "source": [
        "from tqdm import tqdm\n",
        "\n",
        "for image_path in tqdm(os.listdir(data_folder)):\n",
        "    image_path_full = os.path.join(data_folder, image_path)\n",
        "    image_vector = extract_vector(model, image_path_full)\n",
        "\n",
        "    vectors.append(image_vector)\n",
        "    paths.append(image_path_full)\n"
      ]
    },
    {
      "cell_type": "code",
      "execution_count": 10,
      "metadata": {
        "id": "daPYtm_NUb0G"
      },
      "outputs": [],
      "source": [
        "#save vao file\n",
        "vector_file = \"vectors.pkl\"\n",
        "path_file = \"paths.pkl\"\n",
        "\n",
        "pickle.dump(vectors, open(vector_file, \"wb\"))\n",
        "pickle.dump(paths, open(path_file, \"wb\"))"
      ]
    },
    {
      "cell_type": "code",
      "execution_count": 11,
      "metadata": {
        "id": "3xrk4THID7dn"
      },
      "outputs": [],
      "source": [
        "# Dinh nghia anh can tim kiem\n",
        "search_image = \"dataset\\\\Oxford5k\\\\all_souls_000002.jpg\""
      ]
    },
    {
      "cell_type": "code",
      "execution_count": 12,
      "metadata": {
        "colab": {
          "base_uri": "https://localhost:8080/"
        },
        "id": "CMctUB0wD__D",
        "outputId": "293daea3-9737-420f-f80e-41030f33d5df"
      },
      "outputs": [
        {
          "name": "stdout",
          "output_type": "stream",
          "text": [
            "1/1 [==============================] - 1s 588ms/step\n"
          ]
        }
      ],
      "source": [
        "# Khoi tao model\n",
        "model = get_extract_model()\n",
        "\n",
        "# Trich dac trung anh search\n",
        "search_vector = extract_vector(model, search_image)"
      ]
    },
    {
      "cell_type": "code",
      "execution_count": 15,
      "metadata": {},
      "outputs": [],
      "source": [
        "# Load 4700 vector tu vectors.pkl ra bien\n",
        "vectors = pickle.load(open(\"vectors.pkl\",\"rb\"))\n",
        "paths = pickle.load(open(\"paths.pkl\",\"rb\"))"
      ]
    },
    {
      "cell_type": "code",
      "execution_count": 13,
      "metadata": {
        "colab": {
          "base_uri": "https://localhost:8080/",
          "height": 235
        },
        "id": "Qn_yXbDZFglr",
        "outputId": "e78bc2ab-cb76-4ab5-d057-c868629a00c7"
      },
      "outputs": [
        {
          "ename": "ValueError",
          "evalue": "operands could not be broadcast together with shapes (0,) (4096,) ",
          "output_type": "error",
          "traceback": [
            "\u001b[1;31m---------------------------------------------------------------------------\u001b[0m",
            "\u001b[1;31mValueError\u001b[0m                                Traceback (most recent call last)",
            "Cell \u001b[1;32mIn[13], line 6\u001b[0m\n\u001b[0;32m      3\u001b[0m paths \u001b[39m=\u001b[39m pickle\u001b[39m.\u001b[39mload(\u001b[39mopen\u001b[39m(\u001b[39m\"\u001b[39m\u001b[39mpaths.pkl\u001b[39m\u001b[39m\"\u001b[39m,\u001b[39m\"\u001b[39m\u001b[39mrb\u001b[39m\u001b[39m\"\u001b[39m))\n\u001b[0;32m      5\u001b[0m \u001b[39m# Tinh khoang cach tu search_vector den tat ca cac vector\u001b[39;00m\n\u001b[1;32m----> 6\u001b[0m distance \u001b[39m=\u001b[39m np\u001b[39m.\u001b[39mlinalg\u001b[39m.\u001b[39mnorm(vectors \u001b[39m-\u001b[39;49m search_vector, axis\u001b[39m=\u001b[39m\u001b[39m1\u001b[39m)\n\u001b[0;32m      8\u001b[0m \u001b[39m# Sap xep va lay ra K vector co khoang cach ngan nhat\u001b[39;00m\n\u001b[0;32m      9\u001b[0m K \u001b[39m=\u001b[39m \u001b[39m16\u001b[39m\n",
            "\u001b[1;31mValueError\u001b[0m: operands could not be broadcast together with shapes (0,) (4096,) "
          ]
        }
      ],
      "source": [
        "\n",
        "\n",
        "# Tinh khoang cach tu search_vector den tat ca cac vector\n",
        "distance = np.linalg.norm(vectors - search_vector, axis=1)\n",
        "\n",
        "# Sap xep va lay ra K vector co khoang cach ngan nhat\n",
        "K = 16\n",
        "ids = np.argsort(distance)[:K]\n",
        "\n",
        "# Tao oputput\n",
        "nearest_image = [(paths[id], distance[id]) for id in ids]\n",
        "\n",
        "# Ve len man hinh cac anh gan nhat do\n",
        "import matplotlib.pyplot as plt\n",
        "\n",
        "axes = []\n",
        "grid_size = int(math.sqrt(K))\n",
        "fig = plt.figure(figsize=(10,5))"
      ]
    },
    {
      "cell_type": "code",
      "execution_count": null,
      "metadata": {
        "id": "YXxpfi5LECpF"
      },
      "outputs": [],
      "source": [
        "for id in range(K):\n",
        "    draw_image = nearest_image[id]\n",
        "    axes.append(fig.add_subplot(grid_size, grid_size, id+1))\n",
        "\n",
        "    axes[-1].set_title(draw_image[1])\n",
        "    plt.imshow(Image.open(draw_image[0]))\n",
        "\n",
        "fig.tight_layout()\n",
        "plt.show()"
      ]
    }
  ],
  "metadata": {
    "colab": {
      "provenance": []
    },
    "kernelspec": {
      "display_name": "app",
      "language": "python",
      "name": "python3"
    },
    "language_info": {
      "codemirror_mode": {
        "name": "ipython",
        "version": 3
      },
      "file_extension": ".py",
      "mimetype": "text/x-python",
      "name": "python",
      "nbconvert_exporter": "python",
      "pygments_lexer": "ipython3",
      "version": "3.10.9"
    },
    "vscode": {
      "interpreter": {
        "hash": "572bc24777d3d453735d159db94d8e48f2200bef1578384cfce6461fce83846f"
      }
    }
  },
  "nbformat": 4,
  "nbformat_minor": 0
}
